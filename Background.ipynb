{
    "cells": [
        {
            "cell_type": "markdown",
            "metadata": {},
            "source": "<h1 align=center><font size = 5>Determining Where in the World to Open a New Burger Restaurant</font></h1>"
        },
        {
            "cell_type": "markdown",
            "metadata": {
                "collapsed": true
            },
            "source": "## 1. Introduction/Business Problem"
        },
        {
            "cell_type": "markdown",
            "metadata": {},
            "source": "### 1.1. Background"
        },
        {
            "cell_type": "markdown",
            "metadata": {},
            "source": "Global franchises such as McDonald\u2019s and Kentucky Fried Chicken are constantly expanding their franchises across the world.  For example, McDonald\u2019s restaurants can be found in countries as diverse as Italy, the United States of America, and Bahrain.  Each time a new restaurant is opened, care has to be taken to ensure it is opened in a location that is both geographically and culturally conducive to its success.  For example, it would be a poor business decision to open a burger restaurant in a location that is widely known for practicing veganism. In other words, the financial success of each franchise depends on its location.  Therefore, the financial success of the company as a whole depends on the locations of each of its franchises.  In this project, the neighborhoods in three different cities will be assessed regarding their suitability as locations for a new burger restaurant.  These cities are Paris, France; Tokyo, Japan; and Doha, Qatar.  "
        },
        {
            "cell_type": "markdown",
            "metadata": {},
            "source": "### 1.2 Problem"
        },
        {
            "cell_type": "markdown",
            "metadata": {},
            "source": "Cities across the world are characterized not only by different geographic locations but also by vastly different cultures.  In order to launch a successful restaurant in a city, the restaurant must be compatible with the cultural values of the neighborhood in which it is located.  This project aims to determine in which neighborhood(s) of Paris, Tokyo, and Doha it would be appropriate to open a new burger restaurant.  "
        },
        {
            "cell_type": "markdown",
            "metadata": {},
            "source": "### 1.3 Interest"
        },
        {
            "cell_type": "markdown",
            "metadata": {},
            "source": "The importance of this project is in its value to restauranteurs and frachisee\u2019s.  If an algorithm can be produced which allows for easy evaluation of neighborhoods in cities for potential burger restaurants, this would be useful for burger chains, like McDonald\u2019s. <b>The stakeholders are fast food burger franchises, including companies like McDonald's and Burger King.</b>  If the correct location for a restaurant can be found, it will lead to increased profits for the stakeholders.  If the incorrect location is chosen, it could lead to monetary losses for the stakeholders."
        },
        {
            "cell_type": "code",
            "execution_count": null,
            "metadata": {},
            "outputs": [],
            "source": ""
        }
    ],
    "metadata": {
        "kernelspec": {
            "display_name": "Python 3.6",
            "language": "python",
            "name": "python3"
        },
        "language_info": {
            "codemirror_mode": {
                "name": "ipython",
                "version": 3
            },
            "file_extension": ".py",
            "mimetype": "text/x-python",
            "name": "python",
            "nbconvert_exporter": "python",
            "pygments_lexer": "ipython3",
            "version": "3.6.9"
        }
    },
    "nbformat": 4,
    "nbformat_minor": 1
}